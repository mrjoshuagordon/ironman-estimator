{
 "cells": [
  {
   "cell_type": "code",
   "execution_count": null,
   "metadata": {},
   "outputs": [
    {
     "name": "stdout",
     "output_type": "stream",
     "text": [
      "Normalized power (np): 306.0\n",
      "Average power: 292.0\n"
     ]
    }
   ],
   "source": [
    "import pandas as pd\n",
    "import numpy as np\n",
    "\n",
    "def cycling_normalized_power(power):\n",
    "    \"\"\"\n",
    "    Calculates normalized power (np) and average power for cycling data.\n",
    "\n",
    "    Args:\n",
    "        power (list or pd.Series): A list or pandas Series of power values (watts).\n",
    "\n",
    "    Returns:\n",
    "        tuple: A tuple containing (normalized power, average power).\n",
    "               Returns (None, None) if the input is invalid or if there are insufficient data points.\n",
    "    \"\"\"\n",
    "    if not isinstance(power, (list, pd.Series)):\n",
    "        return None, None\n",
    "\n",
    "    if isinstance(power, list):\n",
    "        number_series = pd.Series(power)\n",
    "    else:\n",
    "        number_series = power.copy()\n",
    "\n",
    "    number_series = number_series.dropna()\n",
    "\n",
    "    if len(number_series) < 30:\n",
    "        return None, None\n",
    "\n",
    "    window_size = 30\n",
    "    windows = number_series.rolling(window_size)\n",
    "    power_30s = windows.mean().dropna()\n",
    "\n",
    "    if len(power_30s) == 0:\n",
    "        return None, None\n",
    "\n",
    "    average_power = round(power_30s.mean(), 0)\n",
    "\n",
    "    normalized_power = round((((power_30s**4).mean())**0.25), 0)\n",
    "\n",
    "    return normalized_power, average_power\n",
    "\n",
    "# Example usage\n",
    "power_data = [100, 120, 150, 1130, 110, 180, 200, 190, 170, 160,\n",
    "              155, 165, 175, 185, 195, 205, 215, 225, 235, 245,\n",
    "              240, 230, 220, 210, 200, 195, 185, 175, np.nan,165, 155,\n",
    "              150, 160, 170, 180, 190, 2000, 2100, 220, 230, 240,100, 120, 150, 1130, 110, 180, 200, 190, 170, 160,\n",
    "              155, 165, 175, 185, 195, 205, 215, 225, 235, 245,\n",
    "              240, 230, 220, 210, 200, 195, 185, 175, 165, 155,\n",
    "              150, 160, 170, 180, 190, 2000, 2100, 220, 230, 240,np.nan,np.nan]\n",
    "\n",
    "np_result, avg_result = cycling_normalized_power(power_data)\n",
    "print(f\"Normalized power (np): {np_result}\")\n",
    "print(f\"Average power: {avg_result}\")\n"
   ]
  },
  {
   "cell_type": "code",
   "execution_count": null,
   "metadata": {},
   "outputs": [],
   "source": []
  }
 ],
 "metadata": {
  "kernelspec": {
   "display_name": "myenv",
   "language": "python",
   "name": "python3"
  },
  "language_info": {
   "codemirror_mode": {
    "name": "ipython",
    "version": 3
   },
   "file_extension": ".py",
   "mimetype": "text/x-python",
   "name": "python",
   "nbconvert_exporter": "python",
   "pygments_lexer": "ipython3",
   "version": "3.10.13"
  }
 },
 "nbformat": 4,
 "nbformat_minor": 2
}
