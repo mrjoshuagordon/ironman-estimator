{
 "cells": [
  {
   "cell_type": "code",
   "execution_count": 24,
   "metadata": {},
   "outputs": [
    {
     "name": "stdout",
     "output_type": "stream",
     "text": [
      "Estimated FTP: 264.9\n",
      "Estimated Power at 5000.0: 238.5\n"
     ]
    }
   ],
   "source": [
    "import numpy as np\n",
    "import pandas as pd\n",
    "from scipy.optimize import curve_fit\n",
    "\n",
    "def fatigue_log_cp_model(time, cp, w_prime, k, alpha, F):\n",
    "    return cp + (w_prime / ((time + k) ** alpha)) - F * np.log(time + 1)\n",
    "\n",
    "def estimate_ftp(data, cp20=None, power_prediction=None):\n",
    "    \"\"\"\n",
    "    Estimates FTP (or Critical Power) from either a list/series of wattages or a dictionary of time-wattage pairs.\n",
    "    Optionally predicts power output for a given duration.\n",
    "    \n",
    "    Args:\n",
    "        data (list, np.ndarray, pd.Series, or dict):\n",
    "            - If list/array/series: it is assumed to be power data over time, and mean max power is computed.\n",
    "            - If dict: should be {duration (seconds): mean max power}.\n",
    "        cp20 (float, optional): 20-minute CP estimate (if available), used for a better initial guess.\n",
    "        power_prediction (int, optional): Duration in seconds to predict power output.\n",
    "        \n",
    "    Returns:\n",
    "        dict: Estimated CP, model parameters, and optional power prediction.\n",
    "    \"\"\"\n",
    "    \n",
    "    if isinstance(data, (list, np.ndarray, pd.Series)):\n",
    "        # Compute mean max power for standard durations if a time series of power is provided\n",
    "        time_windows = [60, 300, 600, 1200, 1800, 3600, 7200]  # Common durations (1m, 5m, 10m, etc.)\n",
    "        df = pd.DataFrame({'watts': data})\n",
    "        df['time'] = np.arange(len(data))  # Assume sequential time indices\n",
    "        \n",
    "        power_data = {tw: peak_avg_wattage(df, tw) for tw in time_windows if len(data) >= tw}\n",
    "    elif isinstance(data, dict):\n",
    "        # Use provided mean max power values directly\n",
    "        power_data = data\n",
    "    else:\n",
    "        raise ValueError(\"Unsupported data format. Provide a list/series of wattages or a dictionary of time-power values.\")\n",
    "    \n",
    "    short_durations_seconds = np.array(list(power_data.keys()))\n",
    "    short_power_array = np.array(list(power_data.values()))\n",
    "    \n",
    "    # Default to 95% of 20-min power if cp20 is not provided\n",
    "    if cp20 is None:\n",
    "        cp20 = short_power_array[short_durations_seconds == 1200][0] * 0.95 if 1200 in short_durations_seconds else np.median(short_power_array) * 0.95\n",
    "    \n",
    "    # Set initial guesses\n",
    "    initial_cp = 0.95 * cp20\n",
    "    initial_w_prime = (short_power_array[0] - initial_cp) * short_durations_seconds[0]\n",
    "    initial_k = 300  # Mid-range offset\n",
    "    initial_alpha = 1.0\n",
    "    initial_F = 10.0\n",
    "    \n",
    "    # Set conservative bounds\n",
    "    bounds = ([cp20 * 0.85, 2000, 10, 0.5, 1.0],\n",
    "              [cp20 * .98, 20000, 3000, 2.0, 20.0])\n",
    "    \n",
    "    # Ensure initial conditions are within bounds\n",
    "    p0 = np.clip([initial_cp, initial_w_prime, initial_k, initial_alpha, initial_F], bounds[0], bounds[1])\n",
    "    \n",
    "    popt, _ = curve_fit(fatigue_log_cp_model, short_durations_seconds, short_power_array, p0=p0, bounds=bounds, maxfev=10000)\n",
    "    \n",
    "    cp, w_prime, k, alpha, F = popt\n",
    "    \n",
    "    result = {\n",
    "        \"CP\": cp,\n",
    "        \"W'\": w_prime,\n",
    "        \"k\": k,\n",
    "        \"alpha\": alpha,\n",
    "        \"F\": F\n",
    "    }\n",
    "    if power_prediction is not None:\n",
    "        result[\"Predicted Power\"] = fatigue_log_cp_model(power_prediction, cp, w_prime, k, alpha, F)\n",
    "        result[\"Predicted Power Duration\"] = power_prediction\n",
    "    return {k: float(v) for k, v in result.items()}\n",
    "\n",
    "def peak_avg_wattage(df, time_window):\n",
    "    df['watts'] = df['watts'].fillna(0)\n",
    "    df['rolling_avg'] = df['watts'].rolling(window=time_window, min_periods=1).mean()\n",
    "    return df['rolling_avg'].max()\n",
    "\n",
    "# Example Usage:\n",
    "power_dict = {60: 435, 300: 388, 600: 332, 1200: 328, 1800: 270, 3600: 244, 7200: 232}\n",
    "estimated_ftp = estimate_ftp(power_dict, power_prediction=5000)\n",
    "print(f\"Estimated FTP: {estimated_ftp['CP']:.1f}\")\n",
    "print(f\"Estimated Power at {estimated_ftp['Predicted Power Duration']}: {estimated_ftp['Predicted Power']:.1f}\")\n",
    "\n",
    "\n"
   ]
  },
  {
   "cell_type": "code",
   "execution_count": 26,
   "metadata": {},
   "outputs": [
    {
     "name": "stdout",
     "output_type": "stream",
     "text": [
      "Estimated FTP: 207.3\n"
     ]
    }
   ],
   "source": [
    "df = pd.read_csv('/Users/joshuagordon/Documents/sandbox/strava-im-estimator/ironman-estimator/example_data/example_outdoor_bike.csv')\n",
    "estimated_ftp = estimate_ftp(df['watts'])\n",
    "print(f\"Estimated FTP: {estimated_ftp['CP']:.1f}\")"
   ]
  },
  {
   "cell_type": "code",
   "execution_count": null,
   "metadata": {},
   "outputs": [],
   "source": []
  }
 ],
 "metadata": {
  "kernelspec": {
   "display_name": "myenv",
   "language": "python",
   "name": "python3"
  },
  "language_info": {
   "codemirror_mode": {
    "name": "ipython",
    "version": 3
   },
   "file_extension": ".py",
   "mimetype": "text/x-python",
   "name": "python",
   "nbconvert_exporter": "python",
   "pygments_lexer": "ipython3",
   "version": "3.10.13"
  }
 },
 "nbformat": 4,
 "nbformat_minor": 2
}
