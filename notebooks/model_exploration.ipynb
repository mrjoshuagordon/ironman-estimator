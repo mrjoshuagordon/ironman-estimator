{
 "cells": [
  {
   "cell_type": "code",
   "execution_count": 1,
   "metadata": {},
   "outputs": [],
   "source": [
    "import pandas as pd\n",
    "df = pd.read_csv('../example_data/example_outdoor_bike.csv')"
   ]
  },
  {
   "cell_type": "code",
   "execution_count": 5,
   "metadata": {},
   "outputs": [],
   "source": [
    "def peak_avg_wattage(df, time_window):\n",
    "    \"\"\"\n",
    "    Calculate the peak average wattage over a specified time window.\n",
    "\n",
    "    Args:\n",
    "    df (pd.DataFrame): The dataframe containing time series power data.\n",
    "    time_window (int): The time window in seconds over which to calculate the average power.\n",
    "\n",
    "    Returns:\n",
    "    float: The maximum average power found in the dataset over the specified time window.\n",
    "    \"\"\"\n",
    "    # Ensure 'watts' column has no NaNs\n",
    "    df['watts'] = df['watts'].fillna(0)\n",
    "\n",
    "    # Compute the rolling average power over the specified time window\n",
    "    df['rolling_avg'] = df['watts'].rolling(window=time_window, min_periods=1).mean()\n",
    "\n",
    "    # Find the peak (maximum) average power\n",
    "    peak_avg_wattage = df['rolling_avg'].max()\n",
    "\n",
    "    return peak_avg_wattage"
   ]
  },
  {
   "cell_type": "code",
   "execution_count": 6,
   "metadata": {},
   "outputs": [
    {
     "name": "stdout",
     "output_type": "stream",
     "text": [
      "   Time Window (s)  Peak Average Wattage (W)\n",
      "0                5                402.800000\n",
      "1               60                293.483333\n",
      "2              300                247.443333\n",
      "3              600                230.666667\n",
      "4             1200                222.622500\n",
      "5             3600                217.401111\n",
      "6             7200                       NaN\n",
      "7            10800                       NaN\n",
      "8            14400                       NaN\n",
      "9            18000                       NaN\n"
     ]
    }
   ],
   "source": [
    "def evaluate_peak_avg_wattages(df, time_windows):\n",
    "    \"\"\"\n",
    "    Evaluate the peak average wattage for multiple time windows if the dataset's duration allows.\n",
    "\n",
    "    Args:\n",
    "    df (pd.DataFrame): The dataframe containing time series power data.\n",
    "    time_windows (list of int): List of time windows (in seconds) to evaluate.\n",
    "\n",
    "    Returns:\n",
    "    pd.DataFrame: A dataframe with the results for each valid time window.\n",
    "    \"\"\"\n",
    "    # Get the total duration of the dataset\n",
    "    total_time = df[\"time\"].max() - df[\"time\"].min()\n",
    "\n",
    "    # Evaluate peak average wattage for valid time windows\n",
    "    results = {}\n",
    "    for time_window in time_windows:\n",
    "        if total_time >= time_window:\n",
    "            results[time_window] = peak_avg_wattage(df, time_window)\n",
    "        else:\n",
    "            results[time_window] = None\n",
    "\n",
    "    # Convert results to a DataFrame\n",
    "    results_df = pd.DataFrame(list(results.items()), columns=[\"Time Window (s)\", \"Peak Average Wattage (W)\"])\n",
    "    \n",
    "    return results_df\n",
    "\n",
    "# Define the time windows to evaluate\n",
    "time_windows = [5, 60, 300, 600, 1200, 3600, 7200, 10800, 14400, 18000]\n",
    "\n",
    "# Call the function and display results\n",
    "results_df = evaluate_peak_avg_wattages(df, time_windows)\n",
    "print(results_df)"
   ]
  },
  {
   "cell_type": "code",
   "execution_count": null,
   "metadata": {},
   "outputs": [],
   "source": []
  }
 ],
 "metadata": {
  "kernelspec": {
   "display_name": "myenv",
   "language": "python",
   "name": "python3"
  },
  "language_info": {
   "codemirror_mode": {
    "name": "ipython",
    "version": 3
   },
   "file_extension": ".py",
   "mimetype": "text/x-python",
   "name": "python",
   "nbconvert_exporter": "python",
   "pygments_lexer": "ipython3",
   "version": "3.10.13"
  }
 },
 "nbformat": 4,
 "nbformat_minor": 2
}
