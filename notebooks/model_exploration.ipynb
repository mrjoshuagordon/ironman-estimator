{
 "cells": [
  {
   "cell_type": "code",
   "execution_count": null,
   "metadata": {
    "vscode": {
     "languageId": "plaintext"
    }
   },
   "outputs": [],
   "source": [
    "import pandas as pd\n",
    "df = pd.read_csv('../example_data/example_outdoor_bike.csv')"
   ]
  },
  {
   "cell_type": "code",
   "execution_count": null,
   "metadata": {
    "vscode": {
     "languageId": "plaintext"
    }
   },
   "outputs": [],
   "source": [
    "def peak_60s_avg_wattage(df):\n",
    "    \"\"\"\n",
    "    Calculate the peak 60-second average wattage over the entire time series.\n",
    "    \n",
    "    Args:\n",
    "    df (pd.DataFrame): The dataframe containing time series power data.\n",
    "    \n",
    "    Returns:\n",
    "    float: The maximum 60s average power found in the dataset.\n",
    "    \"\"\"\n",
    "    # Ensure 'watts' column has no NaNs\n",
    "    df['watts'] = df['watts'].fillna(0)\n",
    "    \n",
    "    # Compute the rolling 60-second average power\n",
    "    df['rolling_60s_avg'] = df['watts'].rolling(window=60, min_periods=1).mean()\n",
    "    \n",
    "    # Find the peak (maximum) 60s average power\n",
    "    peak_avg_wattage = df['rolling_60s_avg'].max()\n",
    "    \n",
    "    return peak_avg_wattage\n",
    "\n",
    "# Calculate and print the result\n",
    "peak_wattage = peak_60s_avg_wattage(df)\n",
    "print(f\"Peak 60s Average Wattage: {peak_wattage:.2f} W\")\n"
   ]
  }
 ],
 "metadata": {
  "language_info": {
   "name": "python"
  }
 },
 "nbformat": 4,
 "nbformat_minor": 2
}
